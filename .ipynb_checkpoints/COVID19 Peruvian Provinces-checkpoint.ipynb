{
 "cells": [
  {
   "cell_type": "code",
   "execution_count": 1,
   "id": "fa612d55",
   "metadata": {},
   "outputs": [],
   "source": [
    "import pandas as pd\n",
    "import numpy as np"
   ]
  },
  {
   "cell_type": "code",
   "execution_count": 2,
   "id": "aca8340e",
   "metadata": {},
   "outputs": [],
   "source": [
    "data = pd.read_csv(\"covid_data_196.csv\")"
   ]
  },
  {
   "cell_type": "code",
   "execution_count": 3,
   "id": "6b860d61",
   "metadata": {},
   "outputs": [],
   "source": [
    "xvar = [\"Employed\", \"Males\", \"Vulnerable_pop\", \"Health_Insurance\", \n",
    "        \"Secondary_Education\", \"Life_Expectancy\", \"prev_cronic_prov\", \n",
    "        \"Indice_Pobreza_Compuesto\", \"White_1000_Inhab\", \"Assian_1000_Inhab\", \n",
    "        \"Black_1000_Inhab\", \"prev_diferencial_prov_endes\", \"prev_hipertension_prov_endes\", \n",
    "        \"prev_diabetes_prov_endes\", \"prev_obesidad_prov_endes\", \"Days_Till_Attended\", \n",
    "        \"SD_Days_Till_Attended\",  \"Travel_Time_toHFacility_Hours\", \"SD_TTtHFH\",\n",
    "        \"Waiting_Time_4Attention_Hours\", \"SD_WT4AH\", \"logPD_1000\", \"Overcrowding\",\n",
    "        \"Natural_Region1\", \"Natural_Region2\", \"Natural_Region3\"]"
   ]
  },
  {
   "cell_type": "code",
   "execution_count": 4,
   "id": "494bf7b8",
   "metadata": {
    "scrolled": true
   },
   "outputs": [],
   "source": [
    "datac = data.dropna()\n",
    "\n",
    "x = datac[xvar]\n",
    "Y = datac[\"logmuertes1000\"]"
   ]
  },
  {
   "cell_type": "code",
   "execution_count": null,
   "id": "a9fb632c",
   "metadata": {},
   "outputs": [],
   "source": [
    "#use of fuel lighting\n",
    "#posgraduated\n",
    "from sklearn.model_selection import GridSearchCV\n",
    "from sklearn.metrics import matthews_corrcoef, make_scorer\n",
    "from sklearn.model_selection import RepeatedKFold\n",
    "\n",
    "\n",
    "# Define cross-validation method\n",
    "cv = RepeatedKFold(n_splits=4, n_repeats=10,random_state=0)\n",
    "\n",
    "# Define grid\n",
    "param_grid = {\n",
    "    'alpha': [1e-2, 1e-1, 1.0, 10.0, 100.0],\n",
    "    'l1_ratio': np.arange(0.1,1.0,0.01)\n",
    "}\n",
    "\n",
    "# Define evaluation post-processing criteria\n",
    "from sklearn.metrics import mean_squared_error\n",
    "\n",
    "scoring = make_scorer(mean_squared_error)\n",
    "\n",
    "from sklearn.linear_model import ElasticNet\n",
    "#model_LR = LogisticRegression(random_state=0, penalty='l2', solver='liblinear')\n",
    "\n",
    "model = ElasticNet(random_state=0, fit_intercept=True)\n",
    "\n",
    "# Define search\n",
    "search_ddnn = GridSearchCV(estimator = model, param_grid=param_grid, scoring='neg_mean_squared_error',\n",
    "                           cv=cv, n_jobs=-1, verbose = 4)\n",
    "\n",
    "# Perform the search\n",
    "results_ENLR = search_ddnn.fit(x, Y)"
   ]
  },
  {
   "cell_type": "code",
   "execution_count": null,
   "id": "bbe9d9ea",
   "metadata": {},
   "outputs": [],
   "source": [
    "print('MSE: %.3f' % results_ENLR.best_score_)\n",
    "print('Config: %s' % results_ENLR.best_params_)"
   ]
  },
  {
   "cell_type": "code",
   "execution_count": null,
   "id": "eb0896f7",
   "metadata": {},
   "outputs": [],
   "source": [
    "model_ENLR = ElasticNet(random_state=0, fit_intercept=True, alpha = 1, l1_ratio= 0.20999999999999996)\n",
    "model_ENLR.fit(x, Y)"
   ]
  },
  {
   "cell_type": "code",
   "execution_count": null,
   "id": "5a3dba85",
   "metadata": {},
   "outputs": [],
   "source": [
    "Results_LR = pd.DataFrame(list(zip(x.columns.values,model_ENLR.coef_)), columns =[\"Variable\", \"Coefficient\"])\n",
    "Results_LR"
   ]
  },
  {
   "cell_type": "code",
   "execution_count": null,
   "id": "1c2049fc",
   "metadata": {},
   "outputs": [],
   "source": [
    "import sklearn\n",
    "print(sklearn.metrics.SCORERS.keys())"
   ]
  },
  {
   "cell_type": "code",
   "execution_count": null,
   "id": "ae4283da",
   "metadata": {},
   "outputs": [],
   "source": []
  }
 ],
 "metadata": {
  "kernelspec": {
   "display_name": "Python 3 (ipykernel)",
   "language": "python",
   "name": "python3"
  },
  "language_info": {
   "codemirror_mode": {
    "name": "ipython",
    "version": 3
   },
   "file_extension": ".py",
   "mimetype": "text/x-python",
   "name": "python",
   "nbconvert_exporter": "python",
   "pygments_lexer": "ipython3",
   "version": "3.11.3"
  }
 },
 "nbformat": 4,
 "nbformat_minor": 5
}
